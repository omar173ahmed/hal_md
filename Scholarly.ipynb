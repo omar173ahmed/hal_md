{
  "nbformat": 4,
  "nbformat_minor": 0,
  "metadata": {
    "colab": {
      "provenance": [],
      "authorship_tag": "ABX9TyOl/6tGFav+bh91/VPlW8aR",
      "include_colab_link": true
    },
    "kernelspec": {
      "name": "python3",
      "display_name": "Python 3"
    },
    "language_info": {
      "name": "python"
    }
  },
  "cells": [
    {
      "cell_type": "markdown",
      "metadata": {
        "id": "view-in-github",
        "colab_type": "text"
      },
      "source": [
        "<a href=\"https://colab.research.google.com/github/omar173ahmed/hal_md/blob/main/Scholarly.ipynb\" target=\"_parent\"><img src=\"https://colab.research.google.com/assets/colab-badge.svg\" alt=\"Open In Colab\"/></a>"
      ]
    },
    {
      "cell_type": "code",
      "execution_count": 6,
      "metadata": {
        "colab": {
          "base_uri": "https://localhost:8080/"
        },
        "id": "PBy7gJHVSDnF",
        "outputId": "b76f40b8-a8c2-4c62-adbf-d130939ab7e7"
      },
      "outputs": [
        {
          "output_type": "stream",
          "name": "stdout",
          "text": [
            "Requirement already satisfied: scholarly in /usr/local/lib/python3.10/dist-packages (1.7.11)\n",
            "Requirement already satisfied: arrow in /usr/local/lib/python3.10/dist-packages (from scholarly) (1.3.0)\n",
            "Requirement already satisfied: beautifulsoup4 in /usr/local/lib/python3.10/dist-packages (from scholarly) (4.12.3)\n",
            "Requirement already satisfied: bibtexparser in /usr/local/lib/python3.10/dist-packages (from scholarly) (1.4.1)\n",
            "Requirement already satisfied: deprecated in /usr/local/lib/python3.10/dist-packages (from scholarly) (1.2.14)\n",
            "Requirement already satisfied: fake-useragent in /usr/local/lib/python3.10/dist-packages (from scholarly) (1.5.1)\n",
            "Requirement already satisfied: free-proxy in /usr/local/lib/python3.10/dist-packages (from scholarly) (1.1.1)\n",
            "Requirement already satisfied: httpx in /usr/local/lib/python3.10/dist-packages (from scholarly) (0.27.0)\n",
            "Requirement already satisfied: python-dotenv in /usr/local/lib/python3.10/dist-packages (from scholarly) (1.0.1)\n",
            "Requirement already satisfied: requests[socks] in /usr/local/lib/python3.10/dist-packages (from scholarly) (2.32.3)\n",
            "Requirement already satisfied: selenium in /usr/local/lib/python3.10/dist-packages (from scholarly) (4.23.1)\n",
            "Requirement already satisfied: sphinx-rtd-theme in /usr/local/lib/python3.10/dist-packages (from scholarly) (2.0.0)\n",
            "Requirement already satisfied: typing-extensions in /usr/local/lib/python3.10/dist-packages (from scholarly) (4.12.2)\n",
            "Requirement already satisfied: python-dateutil>=2.7.0 in /usr/local/lib/python3.10/dist-packages (from arrow->scholarly) (2.8.2)\n",
            "Requirement already satisfied: types-python-dateutil>=2.8.10 in /usr/local/lib/python3.10/dist-packages (from arrow->scholarly) (2.9.0.20240821)\n",
            "Requirement already satisfied: soupsieve>1.2 in /usr/local/lib/python3.10/dist-packages (from beautifulsoup4->scholarly) (2.6)\n",
            "Requirement already satisfied: pyparsing>=2.0.3 in /usr/local/lib/python3.10/dist-packages (from bibtexparser->scholarly) (3.1.2)\n",
            "Requirement already satisfied: wrapt<2,>=1.10 in /usr/local/lib/python3.10/dist-packages (from deprecated->scholarly) (1.16.0)\n",
            "Requirement already satisfied: lxml in /usr/local/lib/python3.10/dist-packages (from free-proxy->scholarly) (4.9.4)\n",
            "Requirement already satisfied: anyio in /usr/local/lib/python3.10/dist-packages (from httpx->scholarly) (3.7.1)\n",
            "Requirement already satisfied: certifi in /usr/local/lib/python3.10/dist-packages (from httpx->scholarly) (2024.7.4)\n",
            "Requirement already satisfied: httpcore==1.* in /usr/local/lib/python3.10/dist-packages (from httpx->scholarly) (1.0.5)\n",
            "Requirement already satisfied: idna in /usr/local/lib/python3.10/dist-packages (from httpx->scholarly) (3.7)\n",
            "Requirement already satisfied: sniffio in /usr/local/lib/python3.10/dist-packages (from httpx->scholarly) (1.3.1)\n",
            "Requirement already satisfied: h11<0.15,>=0.13 in /usr/local/lib/python3.10/dist-packages (from httpcore==1.*->httpx->scholarly) (0.14.0)\n",
            "Requirement already satisfied: charset-normalizer<4,>=2 in /usr/local/lib/python3.10/dist-packages (from requests[socks]->scholarly) (3.3.2)\n",
            "Requirement already satisfied: urllib3<3,>=1.21.1 in /usr/local/lib/python3.10/dist-packages (from requests[socks]->scholarly) (2.0.7)\n",
            "Requirement already satisfied: PySocks!=1.5.7,>=1.5.6 in /usr/local/lib/python3.10/dist-packages (from requests[socks]->scholarly) (1.7.1)\n",
            "Requirement already satisfied: trio~=0.17 in /usr/local/lib/python3.10/dist-packages (from selenium->scholarly) (0.26.2)\n",
            "Requirement already satisfied: trio-websocket~=0.9 in /usr/local/lib/python3.10/dist-packages (from selenium->scholarly) (0.11.1)\n",
            "Requirement already satisfied: websocket-client~=1.8 in /usr/local/lib/python3.10/dist-packages (from selenium->scholarly) (1.8.0)\n",
            "Requirement already satisfied: sphinx<8,>=5 in /usr/local/lib/python3.10/dist-packages (from sphinx-rtd-theme->scholarly) (5.0.2)\n",
            "Requirement already satisfied: docutils<0.21 in /usr/local/lib/python3.10/dist-packages (from sphinx-rtd-theme->scholarly) (0.18.1)\n",
            "Requirement already satisfied: sphinxcontrib-jquery<5,>=4 in /usr/local/lib/python3.10/dist-packages (from sphinx-rtd-theme->scholarly) (4.1)\n",
            "Requirement already satisfied: six>=1.5 in /usr/local/lib/python3.10/dist-packages (from python-dateutil>=2.7.0->arrow->scholarly) (1.16.0)\n",
            "Requirement already satisfied: sphinxcontrib-applehelp in /usr/local/lib/python3.10/dist-packages (from sphinx<8,>=5->sphinx-rtd-theme->scholarly) (2.0.0)\n",
            "Requirement already satisfied: sphinxcontrib-devhelp in /usr/local/lib/python3.10/dist-packages (from sphinx<8,>=5->sphinx-rtd-theme->scholarly) (2.0.0)\n",
            "Requirement already satisfied: sphinxcontrib-jsmath in /usr/local/lib/python3.10/dist-packages (from sphinx<8,>=5->sphinx-rtd-theme->scholarly) (1.0.1)\n",
            "Requirement already satisfied: sphinxcontrib-htmlhelp>=2.0.0 in /usr/local/lib/python3.10/dist-packages (from sphinx<8,>=5->sphinx-rtd-theme->scholarly) (2.1.0)\n",
            "Requirement already satisfied: sphinxcontrib-serializinghtml>=1.1.5 in /usr/local/lib/python3.10/dist-packages (from sphinx<8,>=5->sphinx-rtd-theme->scholarly) (2.0.0)\n",
            "Requirement already satisfied: sphinxcontrib-qthelp in /usr/local/lib/python3.10/dist-packages (from sphinx<8,>=5->sphinx-rtd-theme->scholarly) (2.0.0)\n",
            "Requirement already satisfied: Jinja2>=2.3 in /usr/local/lib/python3.10/dist-packages (from sphinx<8,>=5->sphinx-rtd-theme->scholarly) (3.1.4)\n",
            "Requirement already satisfied: Pygments>=2.0 in /usr/local/lib/python3.10/dist-packages (from sphinx<8,>=5->sphinx-rtd-theme->scholarly) (2.16.1)\n",
            "Requirement already satisfied: snowballstemmer>=1.1 in /usr/local/lib/python3.10/dist-packages (from sphinx<8,>=5->sphinx-rtd-theme->scholarly) (2.2.0)\n",
            "Requirement already satisfied: babel>=1.3 in /usr/local/lib/python3.10/dist-packages (from sphinx<8,>=5->sphinx-rtd-theme->scholarly) (2.16.0)\n",
            "Requirement already satisfied: alabaster<0.8,>=0.7 in /usr/local/lib/python3.10/dist-packages (from sphinx<8,>=5->sphinx-rtd-theme->scholarly) (0.7.16)\n",
            "Requirement already satisfied: imagesize in /usr/local/lib/python3.10/dist-packages (from sphinx<8,>=5->sphinx-rtd-theme->scholarly) (1.4.1)\n",
            "Requirement already satisfied: packaging in /usr/local/lib/python3.10/dist-packages (from sphinx<8,>=5->sphinx-rtd-theme->scholarly) (24.1)\n",
            "Requirement already satisfied: attrs>=23.2.0 in /usr/local/lib/python3.10/dist-packages (from trio~=0.17->selenium->scholarly) (24.2.0)\n",
            "Requirement already satisfied: sortedcontainers in /usr/local/lib/python3.10/dist-packages (from trio~=0.17->selenium->scholarly) (2.4.0)\n",
            "Requirement already satisfied: outcome in /usr/local/lib/python3.10/dist-packages (from trio~=0.17->selenium->scholarly) (1.3.0.post0)\n",
            "Requirement already satisfied: exceptiongroup in /usr/local/lib/python3.10/dist-packages (from trio~=0.17->selenium->scholarly) (1.2.2)\n",
            "Requirement already satisfied: wsproto>=0.14 in /usr/local/lib/python3.10/dist-packages (from trio-websocket~=0.9->selenium->scholarly) (1.2.0)\n",
            "Requirement already satisfied: MarkupSafe>=2.0 in /usr/local/lib/python3.10/dist-packages (from Jinja2>=2.3->sphinx<8,>=5->sphinx-rtd-theme->scholarly) (2.1.5)\n"
          ]
        }
      ],
      "source": [
        "!pip install scholarly"
      ]
    },
    {
      "cell_type": "code",
      "source": [
        "from scholarly import scholarly"
      ],
      "metadata": {
        "id": "e9wvoareSMwb"
      },
      "execution_count": 7,
      "outputs": []
    },
    {
      "cell_type": "code",
      "source": [
        "search_query = scholarly.search_author('Jeff Yoshimi')\n",
        "jeff_yoshimi = next(search_query)\n",
        "print(jeff_yoshimi)\n"
      ],
      "metadata": {
        "colab": {
          "base_uri": "https://localhost:8080/"
        },
        "id": "RxDOXy-RSYyR",
        "outputId": "99ce4cc3-c2ec-4f5c-9ef9-30eccbd5d493"
      },
      "execution_count": 8,
      "outputs": [
        {
          "output_type": "stream",
          "name": "stdout",
          "text": [
            "{'container_type': 'Author', 'filled': [], 'source': <AuthorSource.SEARCH_AUTHOR_SNIPPETS: 'SEARCH_AUTHOR_SNIPPETS'>, 'scholar_id': 'asi6wbsAAAAJ', 'url_picture': 'https://scholar.google.com/citations?view_op=medium_photo&user=asi6wbsAAAAJ', 'name': 'Jeffrey Yoshimi', 'affiliation': 'Professor of Philosophy and Cognitive Science, UC Merced', 'email_domain': '@ucmerced.edu', 'interests': ['Philosophy of Cognitive Science', 'Phenomenology', 'Dynamical Systems Theory', 'Neural Networks'], 'citedby': 815}\n"
          ]
        }
      ]
    },
    {
      "cell_type": "code",
      "source": [
        "jeff_yoshimi = scholarly.fill(jeff_yoshimi)\n",
        "print(jeff_yoshimi)\n"
      ],
      "metadata": {
        "colab": {
          "base_uri": "https://localhost:8080/"
        },
        "id": "bHr_nFdmSjxa",
        "outputId": "feebb556-8334-4919-f823-da7ab0e9ee69"
      },
      "execution_count": 9,
      "outputs": [
        {
          "output_type": "stream",
          "name": "stdout",
          "text": [
            "{'container_type': 'Author', 'filled': ['basics', 'indices', 'counts', 'coauthors', 'publications', 'public_access'], 'source': <AuthorSource.SEARCH_AUTHOR_SNIPPETS: 'SEARCH_AUTHOR_SNIPPETS'>, 'scholar_id': 'asi6wbsAAAAJ', 'url_picture': 'https://scholar.google.com/citations?view_op=medium_photo&user=asi6wbsAAAAJ', 'name': 'Jeffrey Yoshimi', 'affiliation': 'Professor of Philosophy and Cognitive Science, UC Merced', 'email_domain': '@ucmerced.edu', 'interests': ['Philosophy of Cognitive Science', 'Phenomenology', 'Dynamical Systems Theory', 'Neural Networks'], 'citedby': 815, 'organization': 16278580130520462922, 'homepage': 'http://www.jeffyoshimi.net/', 'citedby5y': 478, 'hindex': 17, 'hindex5y': 12, 'i10index': 25, 'i10index5y': 17, 'cites_per_year': {2004: 3, 2005: 2, 2006: 5, 2007: 6, 2008: 7, 2009: 4, 2010: 7, 2011: 21, 2012: 19, 2013: 21, 2014: 30, 2015: 41, 2016: 47, 2017: 56, 2018: 42, 2019: 76, 2020: 66, 2021: 77, 2022: 96, 2023: 106, 2024: 57}, 'coauthors': [{'container_type': 'Author', 'filled': [], 'scholar_id': 'U_YU27IAAAAJ', 'source': <AuthorSource.CO_AUTHORS_LIST: 'CO_AUTHORS_LIST'>, 'name': 'Rick Dale', 'affiliation': 'Professor, Communication, UCLA'}, {'container_type': 'Author', 'filled': [], 'scholar_id': 'a5PEg08AAAAJ', 'source': <AuthorSource.CO_AUTHORS_LIST: 'CO_AUTHORS_LIST'>, 'name': 'Anne-Marie Núñez', 'affiliation': 'Professor of Educational Studies, The Ohio State University'}, {'container_type': 'Author', 'filled': [], 'scholar_id': '6xvj6tAAAAAJ', 'source': <AuthorSource.CO_AUTHORS_LIST: 'CO_AUTHORS_LIST'>, 'name': 'David W. Vinson', 'affiliation': 'Director of Research: Well-being and Resilience at 24-7 Intouch'}, {'container_type': 'Author', 'filled': [], 'scholar_id': 'I7h2r0gAAAAJ', 'source': <AuthorSource.CO_AUTHORS_LIST: 'CO_AUTHORS_LIST'>, 'name': 'Riccardo Fusaroli', 'affiliation': 'Professor in Cognitive Science, Aarhus University'}, {'container_type': 'Author', 'filled': [], 'scholar_id': 'lR-DxJAAAAAJ', 'source': <AuthorSource.CO_AUTHORS_LIST: 'CO_AUTHORS_LIST'>, 'name': 'Drew H Abney', 'affiliation': 'Associate Professor of Psychology, University of Georgia'}, {'container_type': 'Author', 'filled': [], 'scholar_id': 'wltCNZwAAAAJ', 'source': <AuthorSource.CO_AUTHORS_LIST: 'CO_AUTHORS_LIST'>, 'name': 'Christopher Kello', 'affiliation': 'Professor of Cognitive Science, University of California Merced'}, {'container_type': 'Author', 'filled': [], 'scholar_id': 'CCdgCOAAAAAJ', 'source': <AuthorSource.CO_AUTHORS_LIST: 'CO_AUTHORS_LIST'>, 'name': 'Kristian Tylén', 'affiliation': 'Professor, Department of Linguistics, Cognitive Science and Semiotics, Aarhus University'}, {'container_type': 'Author', 'filled': [], 'scholar_id': '8txlv8YAAAAJ', 'source': <AuthorSource.CO_AUTHORS_LIST: 'CO_AUTHORS_LIST'>, 'name': 'Russ McBride', 'affiliation': 'Assistant Professor, University of California, Merced'}, {'container_type': 'Author', 'filled': [], 'scholar_id': 'BbtMxhQAAAAJ', 'source': <AuthorSource.CO_AUTHORS_LIST: 'CO_AUTHORS_LIST'>, 'name': 'Philip J. Walsh', 'affiliation': ''}], 'publications': [{'container_type': 'Publication', 'source': <PublicationSource.AUTHOR_PUBLICATION_ENTRY: 'AUTHOR_PUBLICATION_ENTRY'>, 'bib': {'title': 'A phenomenology of transfer: Students’ experiences at a receiving institution', 'pub_year': '2017', 'citation': 'Innovative Higher Education 42, 173-187, 2017'}, 'filled': False, 'author_pub_id': 'asi6wbsAAAAJ:bEWYMUwI8FkC', 'num_citations': 111, 'citedby_url': 'https://scholar.google.com/scholar?oi=bibs&hl=en&cites=13087723098727259831', 'cites_id': ['13087723098727259831']}, {'container_type': 'Publication', 'source': <PublicationSource.AUTHOR_PUBLICATION_ENTRY: 'AUTHOR_PUBLICATION_ENTRY'>, 'bib': {'title': 'Extending dynamical systems theory to model embodied cognition', 'pub_year': '2011', 'citation': 'Cognitive Science 35 (3), 444-479, 2011'}, 'filled': False, 'author_pub_id': 'asi6wbsAAAAJ:YsMSGLbcyi4C', 'num_citations': 65, 'citedby_url': 'https://scholar.google.com/scholar?oi=bibs&hl=en&cites=15734066643724188339', 'cites_id': ['15734066643724188339']}, {'container_type': 'Publication', 'source': <PublicationSource.AUTHOR_PUBLICATION_ENTRY: 'AUTHOR_PUBLICATION_ENTRY'>, 'bib': {'title': 'Mathematizing phenomenology', 'pub_year': '2007', 'citation': 'Phenomenology and the cognitive sciences 6, 271-291, 2007'}, 'filled': False, 'author_pub_id': 'asi6wbsAAAAJ:u-x6o8ySG0sC', 'num_citations': 55, 'citedby_url': 'https://scholar.google.com/scholar?oi=bibs&hl=en&cites=8233131313179760158', 'cites_id': ['8233131313179760158']}, {'container_type': 'Publication', 'source': <PublicationSource.AUTHOR_PUBLICATION_ENTRY: 'AUTHOR_PUBLICATION_ENTRY'>, 'bib': {'title': 'Husserlian phenomenology: A unifying interpretation', 'pub_year': '2016', 'citation': 'Springer, 2016'}, 'filled': False, 'author_pub_id': 'asi6wbsAAAAJ:mB3voiENLucC', 'num_citations': 43, 'citedby_url': 'https://scholar.google.com/scholar?oi=bibs&hl=en&cites=10605069644091340507', 'cites_id': ['10605069644091340507']}, {'container_type': 'Publication', 'source': <PublicationSource.AUTHOR_PUBLICATION_ENTRY: 'AUTHOR_PUBLICATION_ENTRY'>, 'bib': {'title': 'Phenomenology and connectionism', 'pub_year': '2011', 'citation': 'Frontiers in psychology 2, 288, 2011'}, 'filled': False, 'author_pub_id': 'asi6wbsAAAAJ:roLk4NBRz8UC', 'num_citations': 41, 'citedby_url': 'https://scholar.google.com/scholar?oi=bibs&hl=en&cites=5153271707982272896', 'cites_id': ['5153271707982272896']}, {'container_type': 'Publication', 'source': <PublicationSource.AUTHOR_PUBLICATION_ENTRY: 'AUTHOR_PUBLICATION_ENTRY'>, 'bib': {'title': 'Extending Gurwitsch’s field theory of consciousness', 'pub_year': '2015', 'citation': 'Consciousness and cognition 34, 104-123, 2015'}, 'filled': False, 'author_pub_id': 'asi6wbsAAAAJ:_kc_bZDykSQC', 'num_citations': 38, 'citedby_url': 'https://scholar.google.com/scholar?oi=bibs&hl=en&cites=16952886425801588267', 'cites_id': ['16952886425801588267']}, {'container_type': 'Publication', 'source': <PublicationSource.AUTHOR_PUBLICATION_ENTRY: 'AUTHOR_PUBLICATION_ENTRY'>, 'bib': {'title': 'The metaphysical neutrality of Husserlian phenomenology', 'pub_year': '2015', 'citation': 'Husserl Studies 31, 1-15, 2015'}, 'filled': False, 'author_pub_id': 'asi6wbsAAAAJ:YOwf2qJgpHMC', 'num_citations': 37, 'citedby_url': 'https://scholar.google.com/scholar?oi=bibs&hl=en&cites=8317708699909418403', 'cites_id': ['8317708699909418403']}, {'container_type': 'Publication', 'source': <PublicationSource.AUTHOR_PUBLICATION_ENTRY: 'AUTHOR_PUBLICATION_ENTRY'>, 'bib': {'title': 'Supervenience, dynamical systems theory, and non-reductive physicalism', 'pub_year': '2012', 'citation': 'The British Journal for the Philosophy of Science, 2012'}, 'filled': False, 'author_pub_id': 'asi6wbsAAAAJ:2osOgNQ5qMEC', 'num_citations': 32, 'citedby_url': 'https://scholar.google.com/scholar?oi=bibs&hl=en&cites=10236522420200929417', 'cites_id': ['10236522420200929417']}, {'container_type': 'Publication', 'source': <PublicationSource.AUTHOR_PUBLICATION_ENTRY: 'AUTHOR_PUBLICATION_ENTRY'>, 'bib': {'title': 'Mapping the structure of debate', 'pub_year': '2004', 'citation': 'Informal Logic 24 (1), 2004'}, 'filled': False, 'author_pub_id': 'asi6wbsAAAAJ:IjCSPb-OGe4C', 'num_citations': 32, 'citedby_url': 'https://scholar.google.com/scholar?oi=bibs&hl=en&cites=513088271433526989,10108159810525759787,2152517436390382721', 'cites_id': ['513088271433526989', '10108159810525759787', '2152517436390382721']}, {'container_type': 'Publication', 'source': <PublicationSource.AUTHOR_PUBLICATION_ENTRY: 'AUTHOR_PUBLICATION_ENTRY'>, 'bib': {'title': 'Joint perceptual decision-making: a case study in explanatory pluralism', 'pub_year': '2014', 'citation': 'Frontiers in psychology 5, 330, 2014'}, 'filled': False, 'author_pub_id': 'asi6wbsAAAAJ:Zph67rFs4hoC', 'num_citations': 31, 'citedby_url': 'https://scholar.google.com/scholar?oi=bibs&hl=en&cites=6180537759996644009', 'cites_id': ['6180537759996644009']}, {'container_type': 'Publication', 'source': <PublicationSource.AUTHOR_PUBLICATION_ENTRY: 'AUTHOR_PUBLICATION_ENTRY'>, 'bib': {'title': 'Husserl’s theory of belief and the Heideggerean critique', 'pub_year': '2009', 'citation': 'Husserl Studies 25 (2), 121-140, 2009'}, 'filled': False, 'author_pub_id': 'asi6wbsAAAAJ:9yKSN-GCB0IC', 'num_citations': 30, 'citedby_url': 'https://scholar.google.com/scholar?oi=bibs&hl=en&cites=14629051616257691065', 'cites_id': ['14629051616257691065']}, {'container_type': 'Publication', 'source': <PublicationSource.AUTHOR_PUBLICATION_ENTRY: 'AUTHOR_PUBLICATION_ENTRY'>, 'bib': {'title': 'Simbrain 3.0: a flexible, visually-oriented neural network simulator', 'pub_year': '2016', 'citation': 'Neural Networks 83, 1-10, 2016'}, 'filled': False, 'author_pub_id': 'asi6wbsAAAAJ:iH-uZ7U-co4C', 'num_citations': 28, 'citedby_url': 'https://scholar.google.com/scholar?oi=bibs&hl=en&cites=5068187587581932047', 'cites_id': ['5068187587581932047']}, {'container_type': 'Publication', 'source': <PublicationSource.AUTHOR_PUBLICATION_ENTRY: 'AUTHOR_PUBLICATION_ENTRY'>, 'bib': {'title': 'Active internalism and open dynamical systems', 'pub_year': '2012', 'citation': 'Philosophical Psychology 25 (1), 1-24, 2012'}, 'filled': False, 'author_pub_id': 'asi6wbsAAAAJ:eQOLeE2rZwMC', 'num_citations': 28, 'citedby_url': 'https://scholar.google.com/scholar?oi=bibs&hl=en&cites=12860814058420537900', 'cites_id': ['12860814058420537900']}, {'container_type': 'Publication', 'source': <PublicationSource.AUTHOR_PUBLICATION_ENTRY: 'AUTHOR_PUBLICATION_ENTRY'>, 'bib': {'title': 'Husserl on psycho-physical laws', 'pub_year': '2015', 'citation': 'The New Yearbook for Phenomenology and Phenomenological Philosophy, 25-42, 2015'}, 'filled': False, 'author_pub_id': 'asi6wbsAAAAJ:hqOjcs7Dif8C', 'num_citations': 25, 'citedby_url': 'https://scholar.google.com/scholar?oi=bibs&hl=en&cites=15081641182178330701', 'cites_id': ['15081641182178330701']}, {'container_type': 'Publication', 'source': <PublicationSource.AUTHOR_PUBLICATION_ENTRY: 'AUTHOR_PUBLICATION_ENTRY'>, 'bib': {'title': 'The dynamics of embodied cognition', 'pub_year': '2010', 'citation': 'International Journal of Bifurcation and Chaos 20 (04), 943-972, 2010'}, 'filled': False, 'author_pub_id': 'asi6wbsAAAAJ:W7OEmFMy1HYC', 'num_citations': 22, 'citedby_url': 'https://scholar.google.com/scholar?oi=bibs&hl=en&cites=8790166818410465081', 'cites_id': ['8790166818410465081']}, {'container_type': 'Publication', 'source': <PublicationSource.AUTHOR_PUBLICATION_ENTRY: 'AUTHOR_PUBLICATION_ENTRY'>, 'bib': {'title': 'Metaphor and the philosophical implications of embodied mathematics', 'pub_year': '2020', 'citation': 'Frontiers in Psychology 11, 569487, 2020'}, 'filled': False, 'author_pub_id': 'asi6wbsAAAAJ:35N4QoGY0k4C', 'num_citations': 21, 'citedby_url': 'https://scholar.google.com/scholar?oi=bibs&hl=en&cites=6219637238961243357', 'cites_id': ['6219637238961243357']}, {'container_type': 'Publication', 'source': <PublicationSource.AUTHOR_PUBLICATION_ENTRY: 'AUTHOR_PUBLICATION_ENTRY'>, 'bib': {'title': 'Supervenience, determination, and dependence', 'pub_year': '2007', 'citation': 'Pacific Philosophical Quarterly 88 (1), 114-133, 2007'}, 'filled': False, 'author_pub_id': 'asi6wbsAAAAJ:d1gkVwhDpl0C', 'num_citations': 19, 'citedby_url': 'https://scholar.google.com/scholar?oi=bibs&hl=en&cites=5120144535963272668', 'cites_id': ['5120144535963272668']}, {'container_type': 'Publication', 'source': <PublicationSource.AUTHOR_PUBLICATION_ENTRY: 'AUTHOR_PUBLICATION_ENTRY'>, 'bib': {'title': 'Prospects for a Naturalized Phenomenology', 'pub_year': '2015', 'citation': 'Philosophy of mind and phenomenology: Conceptual and empirical approaches …, 2015'}, 'filled': False, 'author_pub_id': 'asi6wbsAAAAJ:mVmsd5A6BfQC', 'num_citations': 17, 'citedby_url': 'https://scholar.google.com/scholar?oi=bibs&hl=en&cites=7843592847338060035', 'cites_id': ['7843592847338060035']}, {'container_type': 'Publication', 'source': <PublicationSource.AUTHOR_PUBLICATION_ENTRY: 'AUTHOR_PUBLICATION_ENTRY'>, 'bib': {'title': 'Simbrain: A visual framework for neural network analysis and education', 'pub_year': '2008', 'citation': 'Brains, Minds, and Media 3, 27, 2008'}, 'filled': False, 'author_pub_id': 'asi6wbsAAAAJ:WF5omc3nYNoC', 'num_citations': 17, 'citedby_url': 'https://scholar.google.com/scholar?oi=bibs&hl=en&cites=16679425930078547979', 'cites_id': ['16679425930078547979']}, {'container_type': 'Publication', 'source': <PublicationSource.AUTHOR_PUBLICATION_ENTRY: 'AUTHOR_PUBLICATION_ENTRY'>, 'bib': {'title': 'A potential mechanism for Gibsonian resonance: Behavioral entrainment emerges from local homeostasis in an unsupervised reservoir network', 'pub_year': '2023', 'citation': 'Cognitive Neurodynamics, 1-24, 2023'}, 'filled': False, 'author_pub_id': 'asi6wbsAAAAJ:yD5IFk8b50cC', 'num_citations': 13, 'citedby_url': 'https://scholar.google.com/scholar?oi=bibs&hl=en&cites=4890245192183708812', 'cites_id': ['4890245192183708812']}, {'container_type': 'Publication', 'source': <PublicationSource.AUTHOR_PUBLICATION_ENTRY: 'AUTHOR_PUBLICATION_ENTRY'>, 'bib': {'title': 'Narrowing the explanatory gap with bridge metaphors', 'pub_year': '2014', 'citation': 'Proceedings of the Annual Meeting of the Cognitive Science Society 36 (36), 2014'}, 'filled': False, 'author_pub_id': 'asi6wbsAAAAJ:ULOm3_A8WrAC', 'num_citations': 12, 'citedby_url': 'https://scholar.google.com/scholar?oi=bibs&hl=en&cites=5012219334965391603', 'cites_id': ['5012219334965391603']}, {'container_type': 'Publication', 'source': <PublicationSource.AUTHOR_PUBLICATION_ENTRY: 'AUTHOR_PUBLICATION_ENTRY'>, 'bib': {'title': 'California phenomenology', 'pub_year': '2019', 'citation': 'The reception of Husserlian phenomenology in North America, 365-387, 2019'}, 'filled': False, 'author_pub_id': 'asi6wbsAAAAJ:J_g5lzvAfSwC', 'num_citations': 11, 'citedby_url': 'https://scholar.google.com/scholar?oi=bibs&hl=en&cites=16495780323797210,6031447526251183999', 'cites_id': ['16495780323797210', '6031447526251183999']}, {'container_type': 'Publication', 'source': <PublicationSource.AUTHOR_PUBLICATION_ENTRY: 'AUTHOR_PUBLICATION_ENTRY'>, 'bib': {'title': 'Field theories of mind and brain', 'pub_year': '2004', 'citation': \"Gurwitsch's relevancy for cognitive science, 111-129, 2004\"}, 'filled': False, 'author_pub_id': 'asi6wbsAAAAJ:UeHWp8X0CEIC', 'num_citations': 11, 'citedby_url': 'https://scholar.google.com/scholar?oi=bibs&hl=en&cites=8462685966079270511', 'cites_id': ['8462685966079270511']}, {'container_type': 'Publication', 'source': <PublicationSource.AUTHOR_PUBLICATION_ENTRY: 'AUTHOR_PUBLICATION_ENTRY'>, 'bib': {'title': 'Mapping husserlian phenomenology onto active inference', 'pub_year': '2022', 'citation': 'International Workshop on Active Inference, 99-111, 2022'}, 'filled': False, 'author_pub_id': 'asi6wbsAAAAJ:HoB7MX3m0LUC', 'num_citations': 10, 'citedby_url': 'https://scholar.google.com/scholar?oi=bibs&hl=en&cites=10196734780388650362', 'cites_id': ['10196734780388650362']}, {'container_type': 'Publication', 'source': <PublicationSource.AUTHOR_PUBLICATION_ENTRY: 'AUTHOR_PUBLICATION_ENTRY'>, 'bib': {'title': 'Philosophy of mind in the phenomenological tradition', 'pub_year': '2018', 'citation': 'Philosophy of mind in the twentieth and twenty-first centuries, 21-51, 2018'}, 'filled': False, 'author_pub_id': 'asi6wbsAAAAJ:4JMBOYKVnBMC', 'num_citations': 10, 'citedby_url': 'https://scholar.google.com/scholar?oi=bibs&hl=en&cites=16793417776061582048', 'cites_id': ['16793417776061582048']}, {'container_type': 'Publication', 'source': <PublicationSource.AUTHOR_PUBLICATION_ENTRY: 'AUTHOR_PUBLICATION_ENTRY'>, 'bib': {'title': 'Two dynamical themes in Husserl', 'pub_year': '2012', 'citation': 'Being in Time: Dynamical Models of Phenomenal Experience, 165, 2012'}, 'filled': False, 'author_pub_id': 'asi6wbsAAAAJ:0EnyYjriUFMC', 'num_citations': 8, 'citedby_url': 'https://scholar.google.com/scholar?oi=bibs&hl=en&cites=15698974872454798716', 'cites_id': ['15698974872454798716']}, {'container_type': 'Publication', 'source': <PublicationSource.AUTHOR_PUBLICATION_ENTRY: 'AUTHOR_PUBLICATION_ENTRY'>, 'bib': {'title': 'Hapas at a Los Angeles High-School: Context and Phenomenology', 'pub_year': '1997', 'citation': 'Amerasia Journal 23 (1), 131-147, 1997'}, 'filled': False, 'author_pub_id': 'asi6wbsAAAAJ:Tyk-4Ss8FVUC', 'num_citations': 7, 'citedby_url': 'https://scholar.google.com/scholar?oi=bibs&hl=en&cites=6081516012825736186', 'cites_id': ['6081516012825736186']}, {'container_type': 'Publication', 'source': <PublicationSource.AUTHOR_PUBLICATION_ENTRY: 'AUTHOR_PUBLICATION_ENTRY'>, 'bib': {'title': 'A phenomenology of transfer', 'pub_year': '2011', 'citation': 'annual meeting of the Association for the Study of Higher Education …, 2011'}, 'filled': False, 'author_pub_id': 'asi6wbsAAAAJ:lSLTfruPkqcC', 'num_citations': 6, 'citedby_url': 'https://scholar.google.com/scholar?oi=bibs&hl=en&cites=11558436019948800027', 'cites_id': ['11558436019948800027']}, {'container_type': 'Publication', 'source': <PublicationSource.AUTHOR_PUBLICATION_ENTRY: 'AUTHOR_PUBLICATION_ENTRY'>, 'bib': {'title': 'Phenomenological psychology as philosophy of mind', 'pub_year': '2021', 'citation': 'The Husserlian Mind, 446-458, 2021'}, 'filled': False, 'author_pub_id': 'asi6wbsAAAAJ:M05iB0D1s5AC', 'num_citations': 5, 'citedby_url': 'https://scholar.google.com/scholar?oi=bibs&hl=en&cites=7967218043486243857', 'cites_id': ['7967218043486243857']}, {'container_type': 'Publication', 'source': <PublicationSource.AUTHOR_PUBLICATION_ENTRY: 'AUTHOR_PUBLICATION_ENTRY'>, 'bib': {'title': 'The phenomenology of problem solving', 'pub_year': '2017', 'citation': 'grazer philosophische studien 94 (3), 391-409, 2017'}, 'filled': False, 'author_pub_id': 'asi6wbsAAAAJ:M3NEmzRMIkIC', 'num_citations': 5, 'citedby_url': 'https://scholar.google.com/scholar?oi=bibs&hl=en&cites=5174847783856262576', 'cites_id': ['5174847783856262576']}, {'container_type': 'Publication', 'source': <PublicationSource.AUTHOR_PUBLICATION_ENTRY: 'AUTHOR_PUBLICATION_ENTRY'>, 'bib': {'title': 'Dynamics of consciousness: Phenomenology, neuroscience, and dynamical systems theory', 'pub_year': '2001', 'citation': 'University of California, Irvine, 2001'}, 'filled': False, 'author_pub_id': 'asi6wbsAAAAJ:MXK_kJrjxJIC', 'num_citations': 5, 'citedby_url': 'https://scholar.google.com/scholar?oi=bibs&hl=en&cites=13524770963532140234', 'cites_id': ['13524770963532140234']}, {'container_type': 'Publication', 'source': <PublicationSource.AUTHOR_PUBLICATION_ENTRY: 'AUTHOR_PUBLICATION_ENTRY'>, 'bib': {'title': 'Pluralist neurophenomenology: a reply to Lopes', 'pub_year': '2023', 'citation': 'Phenomenology and the Cognitive Sciences, 1-24, 2023'}, 'filled': False, 'author_pub_id': 'asi6wbsAAAAJ:zA6iFVUQeVQC', 'num_citations': 4, 'citedby_url': 'https://scholar.google.com/scholar?oi=bibs&hl=en&cites=5517824551496752923', 'cites_id': ['5517824551496752923']}, {'container_type': 'Publication', 'source': <PublicationSource.AUTHOR_PUBLICATION_ENTRY: 'AUTHOR_PUBLICATION_ENTRY'>, 'bib': {'title': 'Modeling consciousness using cognitive maps', 'pub_year': '2017', 'citation': 'Mind and Matter 15 (1), 29-47, 2017'}, 'filled': False, 'author_pub_id': 'asi6wbsAAAAJ:r0BpntZqJG4C', 'num_citations': 4, 'citedby_url': 'https://scholar.google.com/scholar?oi=bibs&hl=en&cites=4975159234133653738', 'cites_id': ['4975159234133653738']}, {'container_type': 'Publication', 'source': <PublicationSource.AUTHOR_PUBLICATION_ENTRY: 'AUTHOR_PUBLICATION_ENTRY'>, 'bib': {'title': 'Bibliometric analysis of the phenomenology literature', 'pub_year': '2023', 'citation': 'Horizons of Phenomenology: Essays on the State of the Field and Its …, 2023'}, 'filled': False, 'author_pub_id': 'asi6wbsAAAAJ:pqnbT2bcN3wC', 'num_citations': 2, 'citedby_url': 'https://scholar.google.com/scholar?oi=bibs&hl=en&cites=2702664597602811026', 'cites_id': ['2702664597602811026']}, {'container_type': 'Publication', 'source': <PublicationSource.AUTHOR_PUBLICATION_ENTRY: 'AUTHOR_PUBLICATION_ENTRY'>, 'bib': {'title': 'Two Conceptions of Husserlian Phenomenology: A Review of Walter Hopp’s Phenomenology: A Contemporary Introduction', 'pub_year': '2022', 'citation': 'Husserl Studies 38 (1), 87-95, 2022'}, 'filled': False, 'author_pub_id': 'asi6wbsAAAAJ:ldfaerwXgEUC', 'num_citations': 2, 'citedby_url': 'https://scholar.google.com/scholar?oi=bibs&hl=en&cites=12694926647089516493', 'cites_id': ['12694926647089516493']}, {'container_type': 'Publication', 'source': <PublicationSource.AUTHOR_PUBLICATION_ENTRY: 'AUTHOR_PUBLICATION_ENTRY'>, 'bib': {'title': 'Artificial intelligence and computational theories of mind', 'pub_year': '2022', 'citation': 'Mind, Cognition, and Neuroscience, 127-148, 2022'}, 'filled': False, 'author_pub_id': 'asi6wbsAAAAJ:g5m5HwL7SMYC', 'num_citations': 2, 'citedby_url': 'https://scholar.google.com/scholar?oi=bibs&hl=en&cites=9174008159224087681', 'cites_id': ['9174008159224087681']}, {'container_type': 'Publication', 'source': <PublicationSource.AUTHOR_PUBLICATION_ENTRY: 'AUTHOR_PUBLICATION_ENTRY'>, 'bib': {'title': 'The open dynamics of braitenberg vehicles', 'pub_year': '2024', 'citation': 'MIT Press, 2024'}, 'filled': False, 'author_pub_id': 'asi6wbsAAAAJ:D03iK_w7-QYC', 'num_citations': 1, 'citedby_url': 'https://scholar.google.com/scholar?oi=bibs&hl=en&cites=1525413240485903788', 'cites_id': ['1525413240485903788']}, {'container_type': 'Publication', 'source': <PublicationSource.AUTHOR_PUBLICATION_ENTRY: 'AUTHOR_PUBLICATION_ENTRY'>, 'bib': {'title': 'Mouse tracking performance: A new approach to analyzing continuous mouse tracking data', 'pub_year': '2023', 'citation': 'Behavior Research Methods, 1-13, 2023'}, 'filled': False, 'author_pub_id': 'asi6wbsAAAAJ:ZHo1McVdvXMC', 'num_citations': 1, 'citedby_url': 'https://scholar.google.com/scholar?oi=bibs&hl=en&cites=13262920540078113525', 'cites_id': ['13262920540078113525']}, {'container_type': 'Publication', 'source': <PublicationSource.AUTHOR_PUBLICATION_ENTRY: 'AUTHOR_PUBLICATION_ENTRY'>, 'bib': {'title': 'The metaphysical neutrality of cognitive science', 'pub_year': '2023', 'citation': 'Synthese 201 (2), 63, 2023'}, 'filled': False, 'author_pub_id': 'asi6wbsAAAAJ:u_35RYKgDlwC', 'num_citations': 1, 'citedby_url': 'https://scholar.google.com/scholar?oi=bibs&hl=en&cites=8793359446323010122', 'cites_id': ['8793359446323010122']}, {'container_type': 'Publication', 'source': <PublicationSource.AUTHOR_PUBLICATION_ENTRY: 'AUTHOR_PUBLICATION_ENTRY'>, 'bib': {'title': 'Phenomenology and cognitive sciences', 'pub_year': '2020', 'citation': 'The Routledge Handbook of Phenomenology and Phenomenological Philosophy, 662-669, 2020'}, 'filled': False, 'author_pub_id': 'asi6wbsAAAAJ:2P1L_qKh6hAC', 'num_citations': 1, 'citedby_url': 'https://scholar.google.com/scholar?oi=bibs&hl=en&cites=10194808741228282794', 'cites_id': ['10194808741228282794']}, {'container_type': 'Publication', 'source': <PublicationSource.AUTHOR_PUBLICATION_ENTRY: 'AUTHOR_PUBLICATION_ENTRY'>, 'bib': {'title': 'Interactions of emoticon valence and text processing.', 'pub_year': '2015', 'citation': 'CogSci, 2015'}, 'filled': False, 'author_pub_id': 'asi6wbsAAAAJ:_xSYboBqXhAC', 'num_citations': 1, 'citedby_url': 'https://scholar.google.com/scholar?oi=bibs&hl=en&cites=6453312933920979736', 'cites_id': ['6453312933920979736']}, {'container_type': 'Publication', 'source': <PublicationSource.AUTHOR_PUBLICATION_ENTRY: 'AUTHOR_PUBLICATION_ENTRY'>, 'bib': {'title': 'Neural networks in cognitive science', 'pub_year': '2011', 'citation': ''}, 'filled': False, 'author_pub_id': 'asi6wbsAAAAJ:b0M2c_1WBrUC', 'num_citations': 1, 'citedby_url': 'https://scholar.google.com/scholar?oi=bibs&hl=en&cites=12349757822321188594', 'cites_id': ['12349757822321188594']}, {'container_type': 'Publication', 'source': <PublicationSource.AUTHOR_PUBLICATION_ENTRY: 'AUTHOR_PUBLICATION_ENTRY'>, 'bib': {'title': 'Horizons of Phenomenology: Essays on the State of the Field and Its Applications', 'pub_year': '2023', 'citation': 'Springer Nature, 2023'}, 'filled': False, 'author_pub_id': 'asi6wbsAAAAJ:SeFeTyx0c_EC', 'num_citations': 0}, {'container_type': 'Publication', 'source': <PublicationSource.AUTHOR_PUBLICATION_ENTRY: 'AUTHOR_PUBLICATION_ENTRY'>, 'bib': {'title': 'Analogical comparison aids false belief understanding in preschoolers', 'citation': ''}, 'filled': False, 'author_pub_id': 'asi6wbsAAAAJ:EUQCXRtRnyEC', 'num_citations': 0}, {'container_type': 'Publication', 'source': <PublicationSource.AUTHOR_PUBLICATION_ENTRY: 'AUTHOR_PUBLICATION_ENTRY'>, 'bib': {'title': '25 Husserl on Psycho-Physical Laws', 'citation': 'The New Yearbook for Phenomenology and Phenomenological Philosophy, 25-42, 0'}, 'filled': False, 'author_pub_id': 'asi6wbsAAAAJ:bFI3QPDXJZMC', 'num_citations': 0}, {'container_type': 'Publication', 'source': <PublicationSource.AUTHOR_PUBLICATION_ENTRY: 'AUTHOR_PUBLICATION_ENTRY'>, 'bib': {'title': 'Horizons of Phenomenology', 'citation': ''}, 'filled': False, 'author_pub_id': 'asi6wbsAAAAJ:pyW8ca7W8N0C', 'num_citations': 0}, {'container_type': 'Publication', 'source': <PublicationSource.AUTHOR_PUBLICATION_ENTRY: 'AUTHOR_PUBLICATION_ENTRY'>, 'bib': {'title': '287 Prospects for a Naturalized Phenomenology', 'citation': 'Philosophy of Mind and Phenomenology: Conceptual and Empirical Approaches …, 0'}, 'filled': False, 'author_pub_id': 'asi6wbsAAAAJ:cFHS6HbyZ2cC', 'num_citations': 0}, {'container_type': 'Publication', 'source': <PublicationSource.AUTHOR_PUBLICATION_ENTRY: 'AUTHOR_PUBLICATION_ENTRY'>, 'bib': {'title': 'DDDDDDD DDDDS', 'citation': ''}, 'filled': False, 'author_pub_id': 'asi6wbsAAAAJ:70eg2SAEIzsC', 'num_citations': 0}], 'public_access': {'available': 2, 'not_available': 0}}\n"
          ]
        }
      ]
    },
    {
      "cell_type": "code",
      "source": [
        "for pub in jeff_yoshimi['publications']:\n",
        "    detailed_pub = scholarly.fill(pub)\n",
        "    title = detailed_pub['bib'].get('title', 'No title available')\n",
        "    abstract = detailed_pub['bib'].get('abstract', 'No abstract available')\n",
        "    year = detailed_pub['bib'].get('pub_year', 'No year available')\n",
        "    print(f\"Title: {title}\\nYear: {year}\\nAbstract: {abstract}\\n\")"
      ],
      "metadata": {
        "colab": {
          "base_uri": "https://localhost:8080/"
        },
        "id": "tuzJLa1NS84a",
        "outputId": "6cee1a6a-8768-44c0-8418-0bd579b386b3"
      },
      "execution_count": 13,
      "outputs": [
        {
          "output_type": "stream",
          "name": "stdout",
          "text": [
            "Title: A phenomenology of transfer: Students’ experiences at a receiving institution\n",
            "Year: 2017\n",
            "Abstract: This study advances a conceptual framework to examine how students who had transferred into a four-year institution described their transition experiences. We used phenomenology as a source of theoretical constructs to interpret their experiences and as a research method. Key themes included the importance of online resources in facilitating the transfer process, the importance of supportive institutional agents, the importance of academic and career goals, and the comparative lack of emphasis on having a more social “college experience.” We discuss implications of these findings for future research, policy, and practice. This study contributes to a better understanding of (a) transfer students’ experiences in an understudied institutional setting, (b) the factors distinguishing persisting and non-persisting transfer students, and (c) ways that receiving institutions can be more responsive to the needs of …\n",
            "\n",
            "Title: Extending dynamical systems theory to model embodied cognition\n",
            "Year: 2011\n",
            "Abstract: We define a mathematical formalism based on the concept of an ‘‘open dynamical system” and show how it can be used to model embodied cognition. This formalism extends classical dynamical systems theory by distinguishing a ‘‘total system’’ (which models an agent in an environment) and an ‘‘agent system’’ (which models an agent by itself), and it includes tools for analyzing the collections of overlapping paths that occur in an embedded agent's state space. To illustrate the way this formalism can be applied, several neural network models are embedded in a simple model environment. Such phenomena as masking, perceptual ambiguity, and priming are then observed. We also use this formalism to reinterpret examples from the embodiment literature, arguing that it provides for a more thorough analysis of the relevant phenomena.\n",
            "\n",
            "Title: Mathematizing phenomenology\n",
            "Year: 2007\n",
            "Abstract: Husserl is well known for his critique of the “mathematizing tendencies” of modern science, and is particularly emphatic that mathematics and phenomenology are distinct and in some sense incompatible. But Husserl himself uses mathematical methods in phenomenology. In the first half of the paper I give a detailed analysis of this tension, showing how those Husserlian doctrines which seem to speak against application of mathematics to phenomenology do not in fact do so. In the second half of the paper I focus on a particular example of Husserl’s “mathematized phenomenology”: his use of concepts from what is today called dynamical systems theory.\n",
            "\n",
            "Title: Husserlian phenomenology: A unifying interpretation\n",
            "Year: 2016\n",
            "Abstract: What follows is the culmination of my work on Husserl to date. I first became interested in Husserl around 1991, when I was an undergraduate at UC Berkeley, attending Hubert Dreyfus’ well-known lectures on Heidegger. Dreyfus would pace back and forth after a student’s question, genuinely thinking about it, sometimes saying things like “Well, maybe you’re right, and I’ve been wrong all these years.” I took full advantage of Dreyfus’ open attitude toward discussion, pressing my doubts about Heidegger in office hours. Dreyfus would patiently entertain my questions, identify errors in my reasoning, and think through the issues on their own terms. At one point he said,“you sound like a Husserlian.” It turned out he was right. I went on to study Husserl with David Woodruff Smith at UC Irvine, who introduced me to Husserl’s texts, and to a formal, analytic way of reading them. Since those early days, my larger goal has …\n",
            "\n",
            "Title: Phenomenology and connectionism\n",
            "Year: 2011\n",
            "Abstract: I show how the dynamics of consciousness can be formally derived from the “open dynamics” of neural activity, and develop a mathematical framework for neuro-phenomenological investigation. I describe the space of possible brain states, the space of possible conscious states, and a “supervenience function” linking them. I show how this framework can be used to associate phenomenological structures with neuro-computational structures, and vice-versa. I pay special attention to the relationship between (1) the relatively fast dynamics of consciousness and neural activity, and (2) the slower dynamics of knowledge update and brain development.\n",
            "\n",
            "Title: Extending Gurwitsch’s field theory of consciousness\n",
            "Year: 2015\n",
            "Abstract: Aron Gurwitsch’s theory of the structure and dynamics of consciousness has much to offer contemporary theorizing about consciousness and its basis in the embodied brain. On Gurwitsch’s account, as we develop it, the field of consciousness has a variable sized focus or “theme” of attention surrounded by a structured periphery of inattentional contents. As the field evolves, its contents change their status, sometimes smoothly, sometimes abruptly. Inner thoughts, a sense of one’s body, and the physical environment are dominant field contents. These ideas can be linked with (and help unify) contemporary theories about the neural correlates of consciousness, inattention, the small world structure of the brain, meta-stable dynamics, embodied cognition, and predictive coding in the brain.\n",
            "\n",
            "Title: The metaphysical neutrality of Husserlian phenomenology\n",
            "Year: 2015\n",
            "Abstract: I argue that Husserlian phenomenology is metaphysically neutral, in the sense of being compatible with multiple metaphysical frameworks (including frameworks Husserl argued against). For example, though Husserl dismisses the concept of an unknowable thing in itself as “material nonsense”, I argue that the concept is coherent and that the existence of such things is compatible with Husserl’s phenomenology. I defend this metaphysical neutrality approach against a number of objections and consider some of its implications for Husserl interpretation.\n",
            "\n",
            "Title: Supervenience, dynamical systems theory, and non-reductive physicalism\n",
            "Year: 2012\n",
            "Abstract: It is often claimed (1) that levels of nature are related by supervenience, and (2) that processes occurring at particular levels of nature should be studied using dynamical systems theory. However, there has been little consideration of how these claims are related. To address the issue, I show how supervenience relations give rise to ‘supervenience functions’, and use these functions to show how dynamical systems at different levels are related to one another. I then use this analysis to describe a graded approach to non-reductive physicalism, and to critically assess Davidson’s arguments for psychological anomaly. I also show how this approach can inform empirical research in cognitive science.\n",
            "\n",
            "Title: Mapping the structure of debate\n",
            "Year: 2004\n",
            "Abstract: Although debate is a richly structured and prevalent form of discourse, it has received little scholarly attention. Logicians have focused on the structure of individual arguments-how they divide into premises and conclusions, which in turn divide into various constituents. In contrast, I focus on the structure of sets of arguments, showing how arguments are themselves constituents in high-level dialectical structures. I represent debates and positions by graphs whose vertices correspond to arguments and whose edges correspond to two inter-argument relations:\" dispute\" and\" support,\" respectively. On this basis I develop a theory of the structure of debate.\n",
            "\n",
            "Title: Joint perceptual decision-making: a case study in explanatory pluralism\n",
            "Year: 2014\n",
            "Abstract: Traditionally different approaches to the study of cognition have been viewed as competing explanatory frameworks. An alternative view, explanatory pluralism, regards different approaches to the study of cognition as complementary ways of studying the same phenomenon, at specific temporal and spatial scales, using appropriate methodological tools. Explanatory pluralism has been often described abstractly, but has rarely been applied to concrete cases. We present a case study of explanatory pluralism. We discuss three separate ways of studying the same phenomenon: a perceptual decision-making task , where pairs of subjects share information to jointly individuate an oddball stimulus among a set of distractors. Each approach analyzed the same corpus but targeted different units of analysis at different levels of description: decision-making at the behavioral level, confidence sharing at the linguistic level, and acoustic energy at the physical level. We discuss the utility of explanatory pluralism for describing this complex, multiscale phenomenon, show ways in which this case study sheds new light on the concept of pluralism, and highlight good practices to critically assess and complement approaches.\n",
            "\n",
            "Title: Husserl’s theory of belief and the Heideggerean critique\n",
            "Year: 2009\n",
            "Abstract: I develop a “two-systems” interpretation of Husserl’s theory of belief. On this interpretation, Husserl accounts for our sense of the world in terms of (1) a system of embodied horizon meanings and passive synthesis, which is involved in any experience of an object, and (2) a system of active synthesis and sedimentation, which comes on line when we attend to an object’s properties. I use this account to defend Husserl against several forms of Heideggerean critique. One line of critique, recently elaborated by Taylor Carman, says that Husserl wrongly loads everyday perception with explicit beliefs about things. A second, earlier line of critique, due to Hubert Dreyfus, charges Husserl with thinking of belief on a problematic Artificial Intelligence (AI) model which involves explicit rules applied to discrete symbol structures. I argue that these criticisms are based on a conflation of Husserl’s two systems of belief. The …\n",
            "\n",
            "Title: Simbrain 3.0: a flexible, visually-oriented neural network simulator\n",
            "Year: 2016\n",
            "Abstract: Simbrain 3.0 is a software package for neural network design and analysis, which emphasizes flexibility (arbitrarily complex networks can be built using a suite of basic components) and a visually rich, intuitive interface. These features support both students and professionals. Students can study all of the major classes of neural networks in a familiar graphical setting, and can easily modify simulations, experimenting with networks and immediately seeing the results of their interventions. With the 3.0 release, Simbrain supports models on the order of thousands of neurons and a million synapses. This allows the same features that support education to support research professionals, who can now use the tool to quickly design, run, and analyze the behavior of large, highly customizable simulations.\n",
            "\n",
            "Title: Active internalism and open dynamical systems\n",
            "Year: 2012\n",
            "Abstract: The question whether cognition is subserved by internal processes in the brain (internalism) or extends in to the world (active externalism) has been vigorously debated in recent years. I show how internalist and externalist ideas can be pursued in a common framework, using (1) open dynamical systems, which allow for separate analysis of an agent's intrinsic and embodied dynamics, and (2) supervenience functions, which can be used to study how low-level dynamical systems give rise to higher-level dynamical structures.\n",
            "\n",
            "Title: Husserl on psycho-physical laws\n",
            "Year: 2015\n",
            "Abstract: In the final sections of Ideas II1 and in Ideas III2 (which originate in a sheave of notes reflecting “one stroke” of continuous meditation by Husserl3), Husserl gives a detailed and remarkable analysis of “psycho-physical conditionality” (pscyhophysiche Konditionalität). Husserl describes how we experience other conscious beings, and our tacit understanding of how their mental states relate to their bodily states. He also gives an eidetic analysis of these experiences, considering what is necessary and what is left open in our experience of mental states in relation to bodily states—what might be called a “phenomenology of the mind-body problem.”\n",
            "\n",
            "Title: The dynamics of embodied cognition\n",
            "Year: 2010\n",
            "Abstract: Historically cognition was understood as the result of processes occurring solely in the brain. Recently, however, cognitive scientists and philosophers studying \"embodied\" or \"situated\" cognition have begun emphasizing the role of the body and environment in which brains are situated, i.e. they view the brain as an \"open system\". However, these theorists frequently rely on dynamical systems which are traditionally viewed as closed systems. We address this tension by extending the framework of dynamical systems theory. We show how structures which appear in the state space of an embodied agent differ from those that appear in closed systems, and we show how these structures can be used to model representational processes in embodied agents. We focus on neural networks as models of embodied cognition.\n",
            "\n",
            "Title: Metaphor and the philosophical implications of embodied mathematics\n",
            "Year: 2020\n",
            "Abstract: Embodied approaches to cognition see abstract thought and language as grounded in interactions between mind, body, and world. A particularly important challenge for embodied approaches to cognition is mathematics, perhaps the most abstract domain of human knowledge. Conceptual metaphor theory, a branch of cognitive linguistics, describes how abstract mathematical concepts are grounded in concrete physical representations. In this paper, we consider the implications of this research for the metaphysics and epistemology of mathematics. In the case of metaphysics, we argue that embodied mathematics is neutral in the sense of being compatible with all existing accounts of what mathematical entities really are. However, embodied mathematics may be able to revive an older position known as psychologism and overcome the difficulties it faces. In the case of epistemology, we argue that the evidence collected in the embodied mathematics literature is inconclusive: It does not show that abstract mathematical thinking is constituted by metaphor; it may simply show that abstract thinking is facilitated by metaphor. Our arguments suggest that closer interaction between the philosophy and cognitive science of mathematics could yield a more precise, empirically informed account of what mathematics is and how we come to have knowledge of it.\n",
            "\n",
            "Title: Supervenience, determination, and dependence\n",
            "Year: 2007\n",
            "Abstract:  I show how existing concepts of supervenience relate to two more fundamental ontological relations: determination and dependence. Determination says that the supervenient properties of a thing are a function of its base properties, while dependence says that having a supervenient property implies having a base property. I show that most varieties of supervenience are either determination relations or determination relations conjoined with dependence relations. In the process of unpacking these connections I identify limitations of existing concepts of supervenience and provide ways of overcoming them. What results is a more precise, flexible, and powerful set of tools for relating sets of properties than current concepts of supervenience provide. I apply these tools to a recalcitrant problem in the physicalism literature – the problem of extras.\n",
            "\n",
            "Title: Prospects for a Naturalized Phenomenology\n",
            "Year: 2015\n",
            "Abstract: Though Husserl and his successors were officially opposed to naturalism, phenomenologists have always drawn on empirical sources to some extent. This trend has increased in the last few decades, and it is now common for phenomenologists to draw on psychology, neuroscience, and other cognitive sciences.                         1                       What is now called ‘naturalized phenomenology’ dates to the 1990s, when Francisco Varela published “Neurophenomenology: A Methodological Remedy for the Hard Problem” (Varela 1996), and a multi-authored volume entitled Naturalized Phenomenology appeared (Petitot et al. 1999).                         2                       In the late 1990s, the journal Phenomenology and the Cognitive Sciences was launched and has been active to the present day. Today, ‘naturalized phenomenology’ is a standard phrase, occurring in over 200 journal articles and book chapters to date …\n",
            "\n",
            "Title: Simbrain: A visual framework for neural network analysis and education\n",
            "Year: 2008\n",
            "Abstract: Simbrain is a visually-oriented framework for building and analyzing neural networks. It emphasizes the analysis of networks which control agents embedded in virtual environments, and visualization of the structures which occur in the high dimensional state spaces of these networks. The program was originally intended to facilitate analysis of representational processes in embodied agents, however it is also well suited to teaching neural networks concepts to a broader audience than is traditional for neural networks courses. Simbrain was used to teach a course at a new university, UC Merced, in its inaugural year. Experiences from the course and sample lessons are provided.\n",
            "\n",
            "Title: A potential mechanism for Gibsonian resonance: Behavioral entrainment emerges from local homeostasis in an unsupervised reservoir network\n",
            "Year: 2023\n",
            "Abstract: While the cognitivist school of thought holds that the mind is analogous to a computer, performing logical operations over internal representations, the tradition of ecological psychology contends that organisms can directly “resonate” to information for action and perception without the need for a representational intermediary. The concept of resonance has played an important role in ecological psychology, but it remains a metaphor. Supplying a mechanistic account of resonance requires a non-representational account of central nervous system (CNS) dynamics. Towards this, we present a series of simple models in which a reservoir network with homeostatic nodes is used to control a simple agent embedded in an environment. This network spontaneously produces behaviors that are adaptive in each context, including (1) visually tracking a moving object, (2) substantially above-chance performance in the arcade …\n",
            "\n",
            "Title: Narrowing the explanatory gap with bridge metaphors\n",
            "Year: 2014\n",
            "Abstract: A central problem in philosophy of mind concerns the relationship between subjective experiences and the physical processes that subserve them. There seems to be an unbridgeable “explanatory gap” between the two. Whereas other scientific explanations (eg the explanation of temperature in terms of kinetic energy) involve determinate relationships between two kinds of phenomena, correlations between patterns of neural activity and conscious experiences seem to be arbitrary. I argue that by developing computer models of embodied agents, and interpreting them using the tools of philosophical phenomenology, the relationship between neural and conscious processes can be seen to be systematic, and non-arbitrary. Visualizations of these models serve as “bridge metaphors” that further emphasize how systematic neuro-phenomenological relations are. By showing that links between brain states and conscious states are non-arbitrary, the explanatory gap is narrowed.\n",
            "\n",
            "Title: California phenomenology\n",
            "Year: 2019\n",
            "Abstract: We survey the development of “California Phenomenology”, both as a philosophical movement originating with Dagfinn Føllesdal’s formulation of a Fregean, analytic reading of Husserl in the late 1950s and 1960s, and as an evolving network of philosophers working throughout California, who have met under the auspices of several groups in a more or less continuous way since that time. We trace the history of these groups in detail, provide an overview of debates that occurred between “West Coast” approaches to Husserlian phenomenology and other approaches, and survey the broad panorama of more recent work.\n",
            "\n",
            "Title: Field theories of mind and brain\n",
            "Year: 2004\n",
            "Abstract: Aron Gurwitsch’s Gestalt-inspired “field theory of consciousness” was introduced in the same period as Wolfgang Köhler’s theory of “electrical brain fields.” I consider parallels between these theories, drawing on results that have emerged in the last five years. First, I consider the claim that fields of consciousness supervene on electromagnetic fields in the brain, then I outline Gurwitsch’s field theory of consciousness, and finally I consider how the structures described by Gurwitsch might relate to structures in the brain’s electro-magnetic field. Along the way, I expose a dogma (that qualia are paradigmatic conscious states) and develop an interpretation of Gurwitsch’s field theory.\n",
            "\n",
            "Title: Mapping husserlian phenomenology onto active inference\n",
            "Year: 2022\n",
            "Abstract: Phenomenology is the rigorous descriptive study of conscious experience. Recent attempts to formalize Husserlian phenomenology provide us with a mathematical model of perception as a function of prior knowledge and expectation. In this paper, we re-examine elements of Husserlian phenomenology through the lens of active inference. In doing so, we aim to advance the project of computational phenomenology, as recently outlined by proponents of active inference. We propose that key aspects of Husserl’s descriptions of consciousness can be mapped onto aspects of the generative models associated with the active inference approach. We first briefly review active inference. We then discuss Husserl’s phenomenology, with a focus on time consciousness. Finally, we present our mapping from Husserlian phenomenology to active inference.\n",
            "\n",
            "Title: Philosophy of mind in the phenomenological tradition\n",
            "Year: 2018\n",
            "Abstract: In this chapter, the authors give an overview of the phenomenological tradition. Phenomenology is often defined as the study of consciousness, or sometimes, the study of phenomena, i.e. things as they appear as opposed to things as they really are. Levinas' mature work on the ethical dimensions of experience stems from his critical engagement with Husserl's phenomenological analyses of empathy and intersubjectivity, and develops an account that emphasizes the experience of looking at another conscious being in the face. Based on these and other observations, Thomasson concludes that \"the very idea of analytic philosophy and its proper role\" and \"some of its characteristic methods\" owe more to phenomenology than is generally acknowledged. Husserl's describes a phenomenological form of supervenience between sensory states and physical states. Other phenomenological features are experienced as …\n",
            "\n",
            "Title: Two dynamical themes in Husserl\n",
            "Year: 2012\n",
            "Abstract: 1. BackgroundA basic construct, from which all other Husserlian constructs can arguably be derived, is a phenomenological state space, a space C of possible conscious states. Each point in C corresponds to a possible human conscious state. 2 Conscious states are understood to be what Gurwitsch (1964) called “fields of consciousness”, which encompass everything a person is aware of at a point in time–thoughts, feelings, the visual field, smells, itches, pains, etc. Various questions arise in relation to the conscious field. For example, it is not clear how extensive it is. Gurwitsch thought we have a fairly rich context awareness, encompassing our sense of our body, some sense of the immediate past and future, etc., while others have claimed that we have a surprisingly limited overall awareness at any time (O’Regan & Noë 2001). There are also questions concerning the notion of an instantaneous conscious state …\n",
            "\n",
            "Title: Hapas at a Los Angeles High-School: Context and Phenomenology\n",
            "Year: 1997\n",
            "Abstract: Whereas early scholars assumed that multiracial experience is problematic (so-called\" marginal man\" theories), recent research has recognized a wider variety of mixed-race experiences.'Implicit in much of this recent research is the idea that when and where mixed-race people live affect how they experience themselves and others. In what follows I elaborate this notion of context-dependence using foodways research and phenomenology.I use foodways research to describe the region surrounding Marshall High School in northeast Los Angeles as well as the experiences of Hapas2 who went to Marshall between 1983 and 1992. To describe the Marshall, I survey public eating establishments, treating signs, menus, and market shelves as clues to underlying cultural dynamics. To describe the experiences of Hapas living in that area, I recount interviews whose emphasis on domestic eating practices allowed me to …\n",
            "\n",
            "Title: A phenomenology of transfer\n",
            "Year: 2011\n",
            "Abstract: No abstract available\n",
            "\n",
            "Title: Phenomenological psychology as philosophy of mind\n",
            "Year: 2021\n",
            "Abstract: I review Husserl’s writings on psychology and in particular phenomenological psychology, a kind of a priori study of the mind and consciousness. I argue that phenomenological psychology can be regarded as a form of philosophy of mind, insofar as both involve conceptual analyses of conscious processes, which can be pursued alongside empirical studies of brain and behavior. Husserl also says that every claim of phenomenological psychology can be translated into transcendental phenomenology, and vice-versa. The two areas are “precisely parallel.” Thus the most obscure depths of transcendental phenomenology can, if my reading is correct, be re-framed as conceptual analyses in the philosophy of mind.\n",
            "\n",
            "Title: The phenomenology of problem solving\n",
            "Year: 2017\n",
            "Abstract: The author outlines a provisional phenomenology of problem solving. He begins by reviewing the history of problem-solving psychology, focusing on the Gestalt approach, which emphasizes the influence of prior knowledge and the occurrence of sudden insights. He then describes problem solving as a process unfolding in a field of consciousness against a background of unconscious knowledge, which encodes action patterns, schemata, and affordances. A global feeling of wrongness or tension is resolved by a series of field transitions, which are guided by peripheral experiences of coherence or “rightness.” The author treats the distinction between reproductive thought (in which we rely on existing strategies to solve a problem) and productive thought (in which we struggle to identify new strategies) as a difference in field structure. With reproductive thoughts and actions we perform operations to solve a problem …\n",
            "\n",
            "Title: Dynamics of consciousness: Phenomenology, neuroscience, and dynamical systems theory\n",
            "Year: 2001\n",
            "Abstract: Husserlian phenomenology and connectionist neuroscience make a surprisingly tight fit. In both fields one finds talk of possible states: on the one hand, sets of possible conscious-states (what Husserl called “horizons”), on the other hand, sets of possible brain-states (which connectionists represent by “activation spaces”). The two approaches are integrated using dynamical systems theory, which provides mathematical and geometrical tools for studying the motion of complex systems.\n",
            "\n",
            "Title: Pluralist neurophenomenology: a reply to Lopes\n",
            "Year: 2023\n",
            "Abstract: Lopes  has argued against my use of neural networks and dynamical systems theory in neurophenomenology. Responding to his argument provides an opportunity to articulate a pluralist approach to neurophenomenology, according to which multiple theoretical frameworks—symbolic, dynamical systems, connectionist, etc.—can be used to study consciousness and its relationship to neural activity. Each type of analysis is best suited to specific phenomena, but they are mutually compatible and can inform and constrain one another in non-trivial ways. I use historical and conceptual arguments to elaborate on this type of pluralism as it applies to cognitive science, phenomenology, and neurophenomenology. \n",
            "\n",
            "Title: Modeling consciousness using cognitive maps\n",
            "Year: 2017\n",
            "Abstract: Two types of neuro-phenomenology are distinguished: (1) actualist neuro-phenomenology, which studies isomorphisms between actual states of consciousness and patterns of activity in the brain which support them, and (2) possibilist neuro-phenomenology, which studies the relationship between possible conscious experiences and their neural correlates. I describe a method for studying both types of neuro-phenomenology using cognitive maps, which are state histories for a real or virtual agent. The points in a cognitive map simultaneously represent possible brains states and conscious states. I present initial work on a model of reinforcement learning that shows how certain claims the phenomenologist Edmund Husserl made can be linked to testable hypotheses about brain and behavior.\n",
            "\n",
            "Title: Bibliometric analysis of the phenomenology literature\n",
            "Year: 2023\n",
            "Abstract: Phenomenology studies the structure and significance of conscious experience, or human existence, or being (terminology varies and there are definitional disputes; see Dreyfus, 1991). It is associated with several philosophical movements, including existentialism, post-structuralism, and Continental philosophy broadly, which emphasize human subjectivity, agency, and meaning; embeddedness in historical and social structures; and alternatives to scientific reasoning as a basic mode of access to knowledge. Phenomenology is often thought of as being organized around specific philosophers (eg, Husserlian phenomenology, Heideggerian phenomenology, and Merleau-Pontyan phenomenology), or into regional or linguistic groups (French phenomenology, German phenomenology, Anglo-American phenomenology). It can also be organized by topic (phenomenology and race, embodiment, art, cognitive science, etc.). Some of these groupings can be further subdivided: for example, Husserlian phenomenology in America is sometimes divided into “West Coast” and “East Coast” schools of interpretation (Yoshimi et al., 2019) and several schools of Heideggerian and Merleau-Pontian phenomenology can be distinguished (Muller, Chapter “The Landscape of Merleau-Pontyan Thought” and Zangeneh, Chapter “Heideggerian Phenomenology”, this volume; also see Sheehan, 2001). It is not clear to what extent these divisions are reflected in the organization of work done within the field, as expressed by patterns of communication between authors. To assess this, we analyze the phenomenology literature using bibliometric methods (Osareh, 1996 …\n",
            "\n",
            "Title: Two Conceptions of Husserlian Phenomenology: A Review of Walter Hopp’s Phenomenology: A Contemporary Introduction\n",
            "Year: 2022\n",
            "Abstract: Accepted: 21 May 2021/Published online: 31 May 2021© This is a US government work and not under copyright protection in the US; foreign copyright protection may apply 2021I began my study of Husserl in the 1990s under Hubert Dreyfus, David Woodruff Smith, and Ron McIntyre, all members of the “California School” of Husserl interpretation, which is realist, Fregean, and generally analytic (Yoshimi et al. 2019). In that period I got to know Dallas Willard and his students, who were like-minded: they also read Husserl as a realist, and were also interested in links between Husserl and analytic philosophy. I sensed differences, but was not clear on what exactly they were, beyond differences of emphasis: Willard focused more on the Logical Investigations than on Ideas 1, emphasized epistemology more than my teachers did, and was less enthusiastic about the noema. Hopp’s book (Hopp 2020) resolves these …\n",
            "\n",
            "Title: Artificial intelligence and computational theories of mind\n",
            "Year: 2022\n",
            "Abstract: Artificial Intelligence is an area of computer science that raises many questions in philosophy, neuroscience, and cognitive science. It is also an area of technological innovation that has completely transformed some aspects of human life and continues to do so. Several broad projects are pursued within AI, depending on whether one is using AI systems to model human psychology or to describe idealized rationality, and depending on whether the focus is on the behavior of a model or also on its internal structure. There are many successful approaches to AI, including symbolic systems and connectionism, and these approaches often compete to explain the full range of cognitive capabilities. There are also philosophical debates about whether it is possible in principle to build a genuinely intelligent computer system. Whereas many approaches to AI have advocated fairly strict divisions of labor between disciplines …\n",
            "\n",
            "Title: The open dynamics of braitenberg vehicles\n",
            "Year: 2024\n",
            "Abstract: An introduction to dynamical systems theory, a detailed mathematical analysis of pairs of Braitenberg vehicles, and a look at how these results apply to the study of physical and biological organisms. Powering the concept of a Braitenberg vehicle, developed in 1984 by the Italian-Austrian cyberneticist Valentino Braitenberg, is the idea that simple systems can produce complex behaviors. A pair of interacting Braitenberg vehicles is simple, but they can meander, wind around, and follow each another in a number of ways. In this book, Scott Hotton and Jeff Yoshimi show how dynamical systems theory—in particular the theory of open dynamic systems—can be used to analyze pairs of these vehicles in great detail. The result of the authors’ long-standing collaboration at the intersection of mathematics, philosophy, cognitive science, and biology, The Open Dynamics of Braitenberg Vehicles offers a rigorous mathematical foundation for embodied cognition, especially when it comes to two-way interactions between an agent and its environment. Following an introduction to dynamical systems theory, and the most detailed mathematical analysis of Braitenberg vehicles to date, Hotton and Yoshimi discuss how their results can be applied to the study of physical and biological systems. They also describe their work's relevance to debates in the philosophy of embodied cognitive science. Combining the best features of embodied and representational approaches to cognitive science, complete with code and simulations, The Open Dynamics of Braitenberg Vehicles provides an extremely accessible and visually rich look into the workings and applications of …\n",
            "\n",
            "Title: Mouse tracking performance: A new approach to analyzing continuous mouse tracking data\n",
            "Year: 2023\n",
            "Abstract: Mouse tracking is an important source of data in cognitive science. Most contemporary mouse tracking studies use binary-choice tasks and analyze the curvature or velocity of an individual mouse movement during an experimental trial as participants select from one of the two options. However, there are many types of mouse tracking data available beyond what is produced in a binary-choice task, including naturalistic data from web users. In order to utilize these data, cognitive scientists need tools that are robust to the lack of trial-by-trial structure in most normal computer tasks. We use singular value decomposition (SVD) and detrended fluctuation analysis (DFA) to analyze whole time series of unstructured mouse movement data. We also introduce a new technique for describing two-dimensional mouse traces as complex-valued time series, which allows SVD and DFA to be applied in a straightforward way …\n",
            "\n",
            "Title: The metaphysical neutrality of cognitive science\n",
            "Year: 2023\n",
            "Abstract: Progress in psychology and the cognitive sciences is often taken to vindicate physicalism and cast doubt on such extravagant metaphysical theses as dualism and idealism. The goal of this paper is to argue that cognitive science has no such implications—rather, evidence from cognitive science is largely (but not wholly) irrelevant to the mind-body problem. Our argument begins with the observation that data from cognitive science can be modeled by supervenience relations. We then show that supervenience relations are neutral, by showing how they can be coherently interpreted in physicalist, idealist, and dualist terms. We distinguish several types of supervenience relation, and show that each coheres better with some positions on the mind-body problem than the other. Since these variants of supervenience are not empirically equivalent, there is a possibility that data from cognitive science will end up …\n",
            "\n",
            "Title: Phenomenology and cognitive sciences\n",
            "Year: 2020\n",
            "Abstract: Phenomenology and the cognitive sciences (the sciences of the mind, including psychology, neuroscience, and linguistics, among other disciplines) have a long history of interaction. Husserl and his successors spoke at length about the relationship between phenomenology and the psychology of their day. In the 1950s phenomenological approaches to psychology and social science were established. Phenomenology was not a major source of influence on psychology in the middle of the 20th century. Behaviorism had taken root in academic psychology, and consciousness was officially verboten among serious psychologists. However, phenomenological investigation did persist in various forms, even within psychology. Naturalized phenomenology in its contemporary sense emerged in the late 1990s, in two distinct but complimentary ways. A first group of theorists explicitly drew on the phenomenological …\n",
            "\n",
            "Title: Interactions of emoticon valence and text processing.\n",
            "Year: 2015\n",
            "Abstract: Emoticons in informal text communication are common worldwide. They have the potential to reveal emotion and social functions, analogous to facial expression and body gestures in face-to-face verbal communication. Our findings from a corpus study of online text communication by a group of scientists, some of whom were bilingual and others monolingual, suggested that patterns of emoticon use depend on a variety of factors, including emoticon valence and language of texting (Aragon et al., 2014). In the present study we bring these effects into the laboratory by examining the interrelation of emoticons and words in lexical decision (LD) experiments with sequential (SOA 200 ms) but spatially superimposed emoticon-word pairs. Monolingual speakers showed a reliable interaction of emoticon valence with lexicality but interactions with word valence were unreliable. Results will be compared to those from comparable word-word pairs.\n",
            "\n",
            "Title: Neural networks in cognitive science\n",
            "Year: 2011\n",
            "Abstract: The phrase “neural network” has several meanings. A biological neural network is an actual set of interconnected neurons in an animal brain. Figure 1 shows a biological neural network. However,“neural network” as we will use the phrase means “artificial neural network,” that is, a computer model that has certain things in common with biological neural networks. In particular, artificial neural networks contain simple processing units or “nodes”, that are similar to neurons in the brain, and are connected by “weights”, which are similar to synaptic connections in the brain. Neural networks can be made to do many fascinating things, and have become a core tool in contemporary cognitive science. In this chapter I give a general introduction to neural networks, and survey some of the different ways they are used. After considering uses of neural networks in biology and engineering, I focus on cognitive science. The course as a whole is on neural networks in cognitive science. 1\n",
            "\n",
            "Title: Horizons of Phenomenology: Essays on the State of the Field and Its Applications\n",
            "Year: 2023\n",
            "Abstract: This is an open access book which explores phenomenology as both an exceptionally diverse movement in philosophy as well as an active research method that crosses disciplinary boundaries. The volume brings together lively overviews of major areas and schools of phenomenology, as well as the most recent applications across a range of fields. The first part reviews the state-of-the-art in various areas of contemporary phenomenology, including several distinct schools of Husserl and Heidegger scholarship, as well as approaches derived from Merleau-Ponty, de Beauvoir, Fanon, and others. An innovative quantitative analysis of citation networks provides rich visualizations of the field as a whole. The second part showcases phenomenology as a living discipline that can advance research in other areas. While some areas of interaction between phenomenology and other disciplines are by now well established (e.g. cognitive science), this volume sheds light on newer areas of application. The goal is to move beyond discussions of philosophical method and highlight scholars who are actually doing phenomenology in a variety of areas, including: Embodiment and questions of gender, race, and identity, The arts (visual art, literature, architecture), and Archaeology and anthropology. This volume offers a concise introduction to cutting edge phenomenological research and is suitable for both students and specialists.\n",
            "\n",
            "Title: Analogical comparison aids false belief understanding in preschoolers\n",
            "Year: No year available\n",
            "Abstract: Analogical comparison has been found to promote learning across many conceptual domains. Here, we ask whether this mechanism can facilitate children’s understanding of others’ mental states. In Experiment 1, children carried out comparisons between characters’ thoughts and reality and between characters with true beliefs vs. those with false beliefs. Children given this training improved from pre-to post-test. In Experiment 2, we used a more minimal comparison technique. Children saw a series of three stories involving true or false beliefs. There were two betweensubjects conditions that either facilitated (High Alignability) or impeded (Low Alignability) comparison across stories. We found that children made more gains from pre-to post-test in the High Alignability condition than in the Low Alignability condition. We also found effects of production of mental state verbs, as assessed in an Elicitation Task. These results provide evidence for the role of analogical comparison in theory of mind development.\n",
            "\n",
            "Title: 25 Husserl on Psycho-Physical Laws\n",
            "Year: No year available\n",
            "Abstract: In the final sections of Ideas II and in Ideas III (which originate in a sheave of notes reflecting “one stroke” of continuous meditation by Husserl), Husserl gives a detailed and remarkable analysis of “psycho-physical conditionality” (pscyhophysiche Konditionalität). Husserl describes how we experience other conscious beings, and our tacit understanding of how their mental states relate to their bodily states. He also gives an eidetic analysis of these experiences, considering what is necessary and what is left open in our experience of mental states in relation to bodily states—what might be called a “phenomenology of the mind-body problem.”\n",
            "\n",
            "Title: Horizons of Phenomenology\n",
            "Year: No year available\n",
            "Abstract: Scope The purpose of the series is to serve as a vehicle for the pursuit of phenomenological research across a broad spectrum, including cross-over developments with other fields of inquiry such as the social sciences and cognitive science. Since its establishment in 1987, Contributions to Phenomenology has published more than 100 titles on diverse themes of phenomenological philosophy. In addition to welcoming monographs and collections of papers in established areas of scholarship, the series encourages original work in phenomenology. The breadth and depth of the Series reflects the rich and varied significance of phenomenological thinking for seminal questions of human inquiry as well as the increasingly international reach of phenomenological research. All books to be published in this Series will be fully peer-reviewed before final acceptance.\n",
            "\n",
            "Title: 287 Prospects for a Naturalized Phenomenology\n",
            "Year: No year available\n",
            "Abstract: Though Husserl and his successors were officially opposed to naturalism, phenomenologists have always drawn on empirical sources to some extent. This trend has increased in the last few decades, and it is now common for phenomenologists to draw on psychology, neuroscience, and other cognitive sciences. What is now called ‘naturalized phenomenology’ dates to the 1990s, when Francisco Varela published “Neurophenomenology: A Methodological Remedy for the Hard Problem” , and a multi-authored volume entitled Naturalized Phenomenology appeared ( et al. 1999). In the late 1990s, the journal Phenomenology and the Cognitive Sciences was launched and has been active to the present day. Today, ‘naturalized phenomenology’ is a standard phrase, occurring in over 200 journal articles and book chapters to date, and the primary subject of several subsequent anthologies (, ) and special issues of …\n",
            "\n",
            "Title: DDDDDDD DDDDS\n",
            "Year: No year available\n",
            "Abstract: Husserl is well known for his critique of the “mathematizing tendencies' of modern science, and is particularly emphatic that mathematics and phenomenology are distinct and in some sense incompatible. But Husserl himself uses mathematical methods in phenomenology. In the first half of the paper I give a detailed analysis of this tension, showing how those Husserlian doctrines which seem to speak against application of mathematics to phenomenology do not in fact do so. In the second half of the paper I focus on a particular example of Husserl's “mathematized phenomenology”: his use of concepts from what is today called dynamical systems theory.\n",
            "\n"
          ]
        }
      ]
    },
    {
      "cell_type": "code",
      "source": [
        "import pandas as pd\n",
        "\n",
        "publications_data = []\n",
        "for pub in jeff_yoshimi['publications']:\n",
        "    detailed_pub = scholarly.fill(pub)\n",
        "    title = detailed_pub['bib'].get('title', 'No title available')\n",
        "    abstract = detailed_pub['bib'].get('abstract', 'No abstract available')\n",
        "    year = detailed_pub['bib'].get('pub_year', 'No year available')\n",
        "    publications_data.append({'Title': title, 'Year': year, 'Abstract': abstract})\n",
        "\n",
        "df = pd.DataFrame(publications_data)\n",
        "df.to_csv('jeff_yoshimi_publications_with_years_abstracts.csv', index=False)\n"
      ],
      "metadata": {
        "id": "mYjFZQRdTGuX"
      },
      "execution_count": 14,
      "outputs": []
    },
    {
      "cell_type": "code",
      "source": [
        "from google.colab import files\n",
        "files.download('jeff_yoshimi_publications_with_years_abstracts.csv')\n"
      ],
      "metadata": {
        "colab": {
          "base_uri": "https://localhost:8080/",
          "height": 17
        },
        "id": "WvMLhOy0TJt5",
        "outputId": "3c7e96a3-c979-4f31-ddb1-33d73662b7a5"
      },
      "execution_count": 12,
      "outputs": [
        {
          "output_type": "display_data",
          "data": {
            "text/plain": [
              "<IPython.core.display.Javascript object>"
            ],
            "application/javascript": [
              "\n",
              "    async function download(id, filename, size) {\n",
              "      if (!google.colab.kernel.accessAllowed) {\n",
              "        return;\n",
              "      }\n",
              "      const div = document.createElement('div');\n",
              "      const label = document.createElement('label');\n",
              "      label.textContent = `Downloading \"${filename}\": `;\n",
              "      div.appendChild(label);\n",
              "      const progress = document.createElement('progress');\n",
              "      progress.max = size;\n",
              "      div.appendChild(progress);\n",
              "      document.body.appendChild(div);\n",
              "\n",
              "      const buffers = [];\n",
              "      let downloaded = 0;\n",
              "\n",
              "      const channel = await google.colab.kernel.comms.open(id);\n",
              "      // Send a message to notify the kernel that we're ready.\n",
              "      channel.send({})\n",
              "\n",
              "      for await (const message of channel.messages) {\n",
              "        // Send a message to notify the kernel that we're ready.\n",
              "        channel.send({})\n",
              "        if (message.buffers) {\n",
              "          for (const buffer of message.buffers) {\n",
              "            buffers.push(buffer);\n",
              "            downloaded += buffer.byteLength;\n",
              "            progress.value = downloaded;\n",
              "          }\n",
              "        }\n",
              "      }\n",
              "      const blob = new Blob(buffers, {type: 'application/binary'});\n",
              "      const a = document.createElement('a');\n",
              "      a.href = window.URL.createObjectURL(blob);\n",
              "      a.download = filename;\n",
              "      div.appendChild(a);\n",
              "      a.click();\n",
              "      div.remove();\n",
              "    }\n",
              "  "
            ]
          },
          "metadata": {}
        },
        {
          "output_type": "display_data",
          "data": {
            "text/plain": [
              "<IPython.core.display.Javascript object>"
            ],
            "application/javascript": [
              "download(\"download_59887439-2d65-4c2e-a259-85a6d1bef744\", \"jeff_yoshimi_publications_with_abstracts.csv\", 44155)"
            ]
          },
          "metadata": {}
        }
      ]
    }
  ]
}